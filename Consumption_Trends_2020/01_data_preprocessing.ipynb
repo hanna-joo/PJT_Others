{
  "nbformat": 4,
  "nbformat_minor": 0,
  "metadata": {
    "colab": {
      "name": "01_data_preprocessing.ipynb",
      "provenance": [],
      "collapsed_sections": [],
      "authorship_tag": "ABX9TyNCD5L8GFDC/7MJY1zL7qVG",
      "include_colab_link": true
    },
    "kernelspec": {
      "name": "python3",
      "display_name": "Python 3"
    }
  },
  "cells": [
    {
      "cell_type": "markdown",
      "metadata": {
        "id": "view-in-github",
        "colab_type": "text"
      },
      "source": [
        "<a href=\"https://colab.research.google.com/github/hanna-joo/project/blob/master/Consumption_Trends_2020/01_data_preprocessing.ipynb\" target=\"_parent\"><img src=\"https://colab.research.google.com/assets/colab-badge.svg\" alt=\"Open In Colab\"/></a>"
      ]
    },
    {
      "cell_type": "code",
      "metadata": {
        "id": "Qgt2ofEnah3B",
        "outputId": "6733dd78-686d-4759-ca48-1f0230e73303",
        "colab": {
          "base_uri": "https://localhost:8080/"
        }
      },
      "source": [
        "from google.colab import drive\n",
        "drive.mount('/content/gdrive')\n",
        "%cd '/content/gdrive/My Drive/Colab Notebooks/04_kdx/data_in'"
      ],
      "execution_count": null,
      "outputs": [
        {
          "output_type": "stream",
          "text": [
            "Mounted at /content/gdrive\n",
            "/content/gdrive/My Drive/Colab Notebooks/04_kdx/data_in\n"
          ],
          "name": "stdout"
        }
      ]
    },
    {
      "cell_type": "code",
      "metadata": {
        "id": "MR1ugk9Gbf-Q"
      },
      "source": [
        "import seaborn as sns\n",
        "import pandas as pd\n",
        "import matplotlib.pyplot as plt\n",
        "import matplotlib as mpl\n",
        "import matplotlib.font_manager as fm"
      ],
      "execution_count": null,
      "outputs": []
    },
    {
      "cell_type": "markdown",
      "metadata": {
        "id": "ltE_kh1aJ5OI"
      },
      "source": [
        "# 데이터 탐색 및 전처리"
      ]
    },
    {
      "cell_type": "markdown",
      "metadata": {
        "id": "CAJlTSH3aFXD"
      },
      "source": [
        "## 1. 온라인 구매이력 데이터\n",
        "- 데이터 출처: Mcorporation\n",
        "- 데이터 형태: 업종별 구매이력 데이터 엑셀파일 총 64개\n"
      ]
    },
    {
      "cell_type": "markdown",
      "metadata": {
        "id": "d6U6CU21bIde"
      },
      "source": [
        "### 1.1. 64종 데이터 파일 병합\n",
        "- 64개의 데이터 파일을 컬럼명 기준으로 병합\n"
      ]
    },
    {
      "cell_type": "code",
      "metadata": {
        "id": "EPOwwh6qblVg",
        "outputId": "48e69cf8-3505-4b0f-9251-59c7bb67f025",
        "colab": {
          "base_uri": "https://localhost:8080/"
        }
      },
      "source": [
        "# 소비업종 카테고리 가져오기\n",
        "categories = pd.read_excel('/content/gdrive/My Drive/Colab Notebooks/04_kdx/data_in/Mcorporation/KDX_CONTEST_파일정의서.xlsx')['xlsx 파일 이름'].values\n",
        "categories = list(categories)\n",
        "categories[:5]"
      ],
      "execution_count": null,
      "outputs": [
        {
          "output_type": "execute_result",
          "data": {
            "text/plain": [
              "['PC사무기기', 'TV홈시어터', '가공식품', '가방지갑잡화', '건강식품']"
            ]
          },
          "metadata": {
            "tags": []
          },
          "execution_count": 3
        }
      ]
    },
    {
      "cell_type": "code",
      "metadata": {
        "id": "h5tMAcPXZk9E",
        "outputId": "01467dbe-4529-4213-a0c7-4d9777997d92",
        "colab": {
          "base_uri": "https://localhost:8080/"
        }
      },
      "source": [
        "mcorp_all = pd.DataFrame()\n",
        "for i, category in enumerate(categories):\n",
        "  path = '/content/gdrive/My Drive/Colab Notebooks/04_kdx/data_in/Mcorporation/{}.xlsx'.format(category)\n",
        "  df = pd.read_excel(path)\n",
        "  df['카테고리명'] = category\n",
        "  mcorp_all = pd.concat((mcorp_all, df), axis=0)\n",
        "  print(category, i)\n",
        "\n",
        "print('*'*50)\n",
        "\n",
        "# 데이터 제대로 나왔는지 확인\n",
        "if len(mcorp_all.카테고리명.unique())==64:\n",
        "  print('데이터 병합 이상없음')\n",
        "else:\n",
        "  print('데이터 병합 에러')"
      ],
      "execution_count": null,
      "outputs": [
        {
          "output_type": "stream",
          "text": [
            "PC사무기기 0\n",
            "TV홈시어터 1\n",
            "가공식품 2\n",
            "가방지갑잡화 3\n",
            "건강식품 4\n",
            "골프용품 5\n",
            "공구류 6\n",
            "구기 7\n",
            "기타 스포츠 8\n",
            "낚시 9\n",
            "남성의류 10\n",
            "계절가전 11\n",
            "노트북 12\n",
            "농축수산물 13\n",
            "도서음반 14\n",
            "등산용품 15\n",
            "메이크업 16\n",
            "문구사무용품 17\n",
            "미용가전 18\n",
            "반려동물 19\n",
            "생활용품 20\n",
            "생활가구 21\n",
            "생활가전 22\n",
            "서비스티켓 23\n",
            "성인용품 24\n",
            "세탁청소세면 25\n",
            "수납용품 26\n",
            "수납가구 27\n",
            "수영 28\n",
            "스키보드 29\n",
            "스킨케어 30\n",
            "스포츠의류 31\n",
            "신발 32\n",
            "악세서리시계주얼리 33\n",
            "안전용품 34\n",
            "언더웨어 35\n",
            "업소위생용품 36\n",
            "여성의류 37\n",
            "국내외여행 38\n",
            "완구키덜트게임 39\n",
            "욕실용품 40\n",
            "욕실가전 41\n",
            "유아용품 42\n",
            "유아패션 43\n",
            "음료 44\n",
            "음향가전 45\n",
            "인테리어용품 46\n",
            "자동차용품 47\n",
            "자전거사이클보드인라인 48\n",
            "주방가전 49\n",
            "주방수납잡화 50\n",
            "주방식기용기 51\n",
            "주방조리기구 52\n",
            "출산임부용품 53\n",
            "취미악기 54\n",
            "침실가구 55\n",
            "침실인테리어 56\n",
            "카메라캠코더 57\n",
            "캠핑용품 58\n",
            "테마의류 59\n",
            "헤어바디용품 60\n",
            "헬스기구용품 61\n",
            "건강관련용품 62\n",
            "휴대폰악세서리 63\n",
            "**************************************************\n",
            "데이터 병합 이상없음\n"
          ],
          "name": "stdout"
        }
      ]
    },
    {
      "cell_type": "code",
      "metadata": {
        "id": "hgVEn1HDbBx0"
      },
      "source": [
        "# 전체 원본 데이터 저장하기 (파일명: mcorp_all.csv)\n",
        "mcorp_all.to_csv('/content/gdrive/Shared drives/청년취업아카데미_KDX한국데이터거래소/Data/mcorp_all.csv', index=False)"
      ],
      "execution_count": null,
      "outputs": []
    },
    {
      "cell_type": "markdown",
      "metadata": {
        "id": "T4EE9fiZbOqQ"
      },
      "source": [
        "### 1.2. 데이터 정제\n",
        "- 1.2.1. 연령대 처리\n",
        "  + 0보다 작은 값과 0인 값에 해당하는 행 삭제(데이터 담당자 확인 결과 의미 없는 값으로 판명)\n",
        "  + 80, 90, 100, 110, 120 인 값은 모두 70대로 변경\n",
        "  + 연령대 70은 70대 이상으로 간주\n",
        "- 1.2.2. 컬럼명 처리\n",
        "  + 편의를 위해 컬럼명 오프라인 데이터 컬럼과 동일하게 변경\n",
        "\n",
        "|_변경전_||구매날짜|카테고리명|고객성별|고객나이|OS유형|구매금액|구매수|\n",
        "|---||---|---|---|---|---|---|---|\n",
        "|_변경후_||**소비일자**|**소비업종**|**성별**|**연령대**|**OS유형**|**소비금액**|**소비건수**|\n",
        "\n",
        "\n",
        "  \n",
        "- 1.2.3. 시계열 데이터 처리\n",
        "  + 구매 날짜가 2020년 6월까지만 데이터 존재\n",
        "  + BI 분석용 데이터로 각 연도의 1-6월까지 데이터 별도 추출\n",
        "\n",
        "\n",
        "\n"
      ]
    },
    {
      "cell_type": "code",
      "metadata": {
        "id": "WVSdEVAudZjZ",
        "outputId": "572ed477-4e2b-4f81-ec9c-345c889a14aa",
        "colab": {
          "base_uri": "https://localhost:8080/"
        }
      },
      "source": [
        "mcorp_all = pd.read_csv('/content/gdrive/Shared drives/청년취업아카데미_KDX한국데이터거래소/Data/mcorp_all.csv', encoding='utf8')\n",
        "\n",
        "# 고객 연령대 값 확인\n",
        "mcorp_all.고객나이.unique()"
      ],
      "execution_count": null,
      "outputs": [
        {
          "output_type": "execute_result",
          "data": {
            "text/plain": [
              "array([ 10,  20,  30,  40,  50,  60,  70,  80,  90,   0, -30, -50, -60,\n",
              "       -40, 100, -20, -80, -70, 110, -10, 120])"
            ]
          },
          "metadata": {
            "tags": []
          },
          "execution_count": 7
        }
      ]
    },
    {
      "cell_type": "code",
      "metadata": {
        "id": "EMwkgyykbDDX",
        "outputId": "a3ef2ddd-e0e8-4004-96b9-02142d0729d2",
        "colab": {
          "base_uri": "https://localhost:8080/"
        }
      },
      "source": [
        "mcorp = mcorp_all.copy()\n",
        "\n",
        "# 1.2.1. 연령대 처리\n",
        "temp = mcorp[~mcorp['고객나이'].isin([0,-10,-20,-30,-40,-50,-60,-70,-80])]\n",
        "temp['고객나이'] = [70 if x>=70 else x for x in temp['고객나이']]\n",
        "mcorp = temp\n",
        "\n",
        "# 1.2.2. 컬럼명 처리\n",
        "mcorp.columns = ['소비일자','소비업종','성별','연령대','OS유형','소비금액','소비건수']"
      ],
      "execution_count": null,
      "outputs": [
        {
          "output_type": "stream",
          "text": [
            "1월-6월까지의 데이터가 정상 추출되었습니다\n",
            "**************************************************\n"
          ],
          "name": "stdout"
        },
        {
          "output_type": "stream",
          "text": [
            "/usr/local/lib/python3.6/dist-packages/ipykernel_launcher.py:5: SettingWithCopyWarning: \n",
            "A value is trying to be set on a copy of a slice from a DataFrame.\n",
            "Try using .loc[row_indexer,col_indexer] = value instead\n",
            "\n",
            "See the caveats in the documentation: https://pandas.pydata.org/pandas-docs/stable/user_guide/indexing.html#returning-a-view-versus-a-copy\n",
            "  \"\"\"\n"
          ],
          "name": "stderr"
        }
      ]
    },
    {
      "cell_type": "code",
      "metadata": {
        "id": "v1n1Yg59Qt5p"
      },
      "source": [
        "# 1.2.3. 시계열 데이터 처리\n",
        "temp19 = mcorp[mcorp.소비일자<=20190630]\n",
        "temp20 = mcorp[(mcorp.소비일자>=20200101) & (mcorp.소비일자<=20200630)]\n",
        "temp1920 = mcorp[(mcorp.소비일자<=20190630)|(mcorp.소비일자>=20200101) & (mcorp.소비일자<=20200630)]\n",
        "\n",
        "if (len(temp19.소비일자) + len(temp20.소비일자) == len(temp1920.소비일자)):\n",
        "  print('1월-6월까지의 데이터가 정상 추출되었습니다')\n",
        "  print('*'*50)\n",
        "\n",
        "mcorp = temp1920\n",
        "\n",
        "# BI 분석용 데이터 저장하기 (파일명: mcorp_edit.csv)\n",
        "mcorp.to_csv('/content/gdrive/Shared drives/청년취업아카데미_KDX한국데이터거래소/Data/mcorp_edit.csv', index=False)"
      ],
      "execution_count": null,
      "outputs": []
    }
  ]
}