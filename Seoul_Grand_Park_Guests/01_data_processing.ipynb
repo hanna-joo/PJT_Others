{
  "nbformat": 4,
  "nbformat_minor": 0,
  "metadata": {
    "colab": {
      "name": "Untitled0.ipynb",
      "provenance": [],
      "collapsed_sections": [],
      "include_colab_link": true
    },
    "kernelspec": {
      "name": "python3",
      "display_name": "Python 3"
    }
  },
  "cells": [
    {
      "cell_type": "markdown",
      "metadata": {
        "id": "view-in-github",
        "colab_type": "text"
      },
      "source": [
        "<a href=\"https://colab.research.google.com/github/hanna-joo/project/blob/master/Seoul_Grand_Park_Guests/01_data_processing.ipynb\" target=\"_parent\"><img src=\"https://colab.research.google.com/assets/colab-badge.svg\" alt=\"Open In Colab\"/></a>"
      ]
    },
    {
      "cell_type": "code",
      "metadata": {
        "id": "kR5WUAuwSB7d",
        "colab_type": "code",
        "colab": {
          "base_uri": "https://localhost:8080/",
          "height": 215
        },
        "outputId": "73124f72-6a09-48d3-c9b8-2336747b2daa"
      },
      "source": [
        "# 한글 파일 설정\n",
        "%config InlineBackend.figure_format = 'retina'\n",
        "!apt -qq -y install fonts-nanum\n",
        "# 런타임 다시 시작하기"
      ],
      "execution_count": null,
      "outputs": [
        {
          "output_type": "stream",
          "text": [
            "The following NEW packages will be installed:\n",
            "  fonts-nanum\n",
            "0 upgraded, 1 newly installed, 0 to remove and 11 not upgraded.\n",
            "Need to get 9,604 kB of archives.\n",
            "After this operation, 29.5 MB of additional disk space will be used.\n",
            "Selecting previously unselected package fonts-nanum.\n",
            "(Reading database ... 144676 files and directories currently installed.)\n",
            "Preparing to unpack .../fonts-nanum_20170925-1_all.deb ...\n",
            "Unpacking fonts-nanum (20170925-1) ...\n",
            "Setting up fonts-nanum (20170925-1) ...\n",
            "Processing triggers for fontconfig (2.12.6-0ubuntu2) ...\n"
          ],
          "name": "stdout"
        }
      ]
    },
    {
      "cell_type": "code",
      "metadata": {
        "id": "rMEf_w7_SG2k",
        "colab_type": "code",
        "colab": {
          "base_uri": "https://localhost:8080/",
          "height": 73
        },
        "outputId": "39f21adf-269c-4747-bea6-87a8b9aecd49"
      },
      "source": [
        "from pandas.plotting import register_matplotlib_converters\n",
        "import seaborn as sns\n",
        "import pandas as pd\n",
        "import numpy as np\n",
        "import matplotlib.pyplot as plt\n",
        "import matplotlib as mpl\n",
        "import matplotlib.font_manager as fm\n"
      ],
      "execution_count": null,
      "outputs": [
        {
          "output_type": "stream",
          "text": [
            "/usr/local/lib/python3.6/dist-packages/statsmodels/tools/_testing.py:19: FutureWarning: pandas.util.testing is deprecated. Use the functions in the public API at pandas.testing instead.\n",
            "  import pandas.util.testing as tm\n"
          ],
          "name": "stderr"
        }
      ]
    },
    {
      "cell_type": "code",
      "metadata": {
        "id": "nAxEX9VVSJ3k",
        "colab_type": "code",
        "colab": {
          "base_uri": "https://localhost:8080/",
          "height": 197
        },
        "outputId": "95bb15f2-1207-4a6b-8386-1a8f951be445"
      },
      "source": [
        "for font in fm.fontManager.ttflist:\n",
        "    if 'Nanum' in font.name:\n",
        "        print(font.name, font.fname)"
      ],
      "execution_count": null,
      "outputs": [
        {
          "output_type": "stream",
          "text": [
            "NanumBarunGothic /usr/share/fonts/truetype/nanum/NanumBarunGothicBold.ttf\n",
            "NanumBarunGothic /usr/share/fonts/truetype/nanum/NanumBarunGothic.ttf\n",
            "NanumMyeongjo /usr/share/fonts/truetype/nanum/NanumMyeongjo.ttf\n",
            "NanumSquare /usr/share/fonts/truetype/nanum/NanumSquareB.ttf\n",
            "NanumGothic /usr/share/fonts/truetype/nanum/NanumGothicBold.ttf\n",
            "NanumSquare /usr/share/fonts/truetype/nanum/NanumSquareR.ttf\n",
            "NanumSquareRound /usr/share/fonts/truetype/nanum/NanumSquareRoundR.ttf\n",
            "NanumSquareRound /usr/share/fonts/truetype/nanum/NanumSquareRoundB.ttf\n",
            "NanumGothic /usr/share/fonts/truetype/nanum/NanumGothic.ttf\n",
            "NanumMyeongjo /usr/share/fonts/truetype/nanum/NanumMyeongjoBold.ttf\n"
          ],
          "name": "stdout"
        }
      ]
    },
    {
      "cell_type": "code",
      "metadata": {
        "id": "N4-UIFz3SKMD",
        "colab_type": "code",
        "colab": {}
      },
      "source": [
        "fontpath = '/usr/share/fonts/truetype/nanum/NanumBarunGothic.ttf'\n",
        "font = fm.FontProperties(fname=fontpath, size=9)\n",
        "plt.rc('font', family='NanumBarunGothic') \n",
        "plt.rcParams[\"figure.figsize\"] = (20, 10)\n",
        "register_matplotlib_converters()\n",
        "mpl.font_manager._rebuild()\n",
        "mpl.pyplot.rc('font', family='NanumGothic')\n",
        "fm._rebuild()"
      ],
      "execution_count": null,
      "outputs": []
    },
    {
      "cell_type": "code",
      "metadata": {
        "id": "JIBrJfwVSLpr",
        "colab_type": "code",
        "colab": {
          "base_uri": "https://localhost:8080/",
          "height": 456
        },
        "outputId": "97d53681-52b7-4318-a0e0-6567a073c8d1"
      },
      "source": [
        "font = {'family' : 'NanumGothic',\n",
        "        'weight' : 'bold',\n",
        "        'size'   : 22}\n",
        "\n",
        "plt.rc('font', **font)\n",
        "plt.text(0.3, 0.3, '한글', size=100)"
      ],
      "execution_count": null,
      "outputs": [
        {
          "output_type": "execute_result",
          "data": {
            "text/plain": [
              "Text(0.3, 0.3, '한글')"
            ]
          },
          "metadata": {
            "tags": []
          },
          "execution_count": 4
        },
        {
          "output_type": "display_data",
          "data": {
            "image/png": "[encoded data removed]",
            "text/plain": [
              "<Figure size 1440x720 with 1 Axes>"
            ]
          },
          "metadata": {
            "tags": [],
            "needs_background": "light"
          }
        }
      ]
    },
    {
      "cell_type": "code",
      "metadata": {
        "id": "XvauV517SMqM",
        "colab_type": "code",
        "colab": {
          "base_uri": "https://localhost:8080/",
          "height": 53
        },
        "outputId": "d75f671d-b7a5-488c-e6fc-0fa1ce0c7725"
      },
      "source": [
        "# 구글 드라이브 연동\n",
        "from google.colab import drive # import drive from google colab\n",
        "\n",
        "ROOT = \"/content/drive\"     # default location for the drive\n",
        "print(ROOT)       \n",
        "          # print content of ROOT (Optional)\n",
        "drive.mount(ROOT, force_remount=True)"
      ],
      "execution_count": null,
      "outputs": [
        {
          "output_type": "stream",
          "text": [
            "/content/drive\n",
            "Mounted at /content/drive\n"
          ],
          "name": "stdout"
        }
      ]
    },
    {
      "cell_type": "code",
      "metadata": {
        "id": "iKv20T3jSTyT",
        "colab_type": "code",
        "colab": {
          "base_uri": "https://localhost:8080/",
          "height": 71
        },
        "outputId": "80cedbfb-0054-4c36-95d2-3d50896ca0bd"
      },
      "source": [
        "from os.path import join  \n",
        "\n",
        "MY_GOOGLE_DRIVE_PATH = '/content/drive/Shared drives/청년취업아카데미_대공원을간문돌이/데이터/'\n",
        "PROJECT_PATH = join(ROOT, MY_GOOGLE_DRIVE_PATH)\n",
        "\n",
        "%cd \"{PROJECT_PATH}\"\n",
        "%ls"
      ],
      "execution_count": null,
      "outputs": [
        {
          "output_type": "stream",
          "text": [
            "/content/drive/Shared drives/청년취업아카데미_대공원을간문돌이/데이터\n",
            "'1. 서울대공원 입장객 현황 (2005-2019).csv'   일별날씨.ipynb\n",
            " fine_dust_df.csv                             weather_df.csv\n"
          ],
          "name": "stdout"
        }
      ]
    },
    {
      "cell_type": "code",
      "metadata": {
        "id": "MMH7CUcOSZMo",
        "colab_type": "code",
        "colab": {
          "base_uri": "https://localhost:8080/",
          "height": 35
        },
        "outputId": "95e00a0c-f637-4368-e4fb-1dc55865eced"
      },
      "source": [
        "seoul = pd.read_csv('1. 서울대공원 입장객 현황 (2005-2019).csv')\n",
        "weather = pd.read_csv('weather_df.csv')\n",
        "dust = pd.read_csv('fine_dust_df.csv')\n",
        "\n",
        "len(seoul), len(weather),len(dust)"
      ],
      "execution_count": null,
      "outputs": [
        {
          "output_type": "execute_result",
          "data": {
            "text/plain": [
              "(5478, 5478, 5447)"
            ]
          },
          "metadata": {
            "tags": []
          },
          "execution_count": 23
        }
      ]
    },
    {
      "cell_type": "code",
      "metadata": {
        "id": "F5wTnucgSsHT",
        "colab_type": "code",
        "colab": {
          "base_uri": "https://localhost:8080/",
          "height": 204
        },
        "outputId": "c962a1e6-36e0-41e3-d352-8cf750888365"
      },
      "source": [
        "seoul.head()"
      ],
      "execution_count": null,
      "outputs": [
        {
          "output_type": "execute_result",
          "data": {
            "text/html": [
              "<div>\n",
              "<style scoped>\n",
              "    .dataframe tbody tr th:only-of-type {\n",
              "        vertical-align: middle;\n",
              "    }\n",
              "\n",
              "    .dataframe tbody tr th {\n",
              "        vertical-align: top;\n",
              "    }\n",
              "\n",
              "    .dataframe thead th {\n",
              "        text-align: right;\n",
              "    }\n",
              "</style>\n",
              "<table border=\"1\" class=\"dataframe\">\n",
              "  <thead>\n",
              "    <tr style=\"text-align: right;\">\n",
              "      <th></th>\n",
              "      <th>날짜</th>\n",
              "      <th>총계(명)</th>\n",
              "    </tr>\n",
              "  </thead>\n",
              "  <tbody>\n",
              "    <tr>\n",
              "      <th>0</th>\n",
              "      <td>2005-01-01</td>\n",
              "      <td>6,440</td>\n",
              "    </tr>\n",
              "    <tr>\n",
              "      <th>1</th>\n",
              "      <td>2005-01-02</td>\n",
              "      <td>6,062</td>\n",
              "    </tr>\n",
              "    <tr>\n",
              "      <th>2</th>\n",
              "      <td>2005-01-03</td>\n",
              "      <td>858</td>\n",
              "    </tr>\n",
              "    <tr>\n",
              "      <th>3</th>\n",
              "      <td>2005-01-04</td>\n",
              "      <td>1,200</td>\n",
              "    </tr>\n",
              "    <tr>\n",
              "      <th>4</th>\n",
              "      <td>2005-01-05</td>\n",
              "      <td>1,603</td>\n",
              "    </tr>\n",
              "  </tbody>\n",
              "</table>\n",
              "</div>"
            ],
            "text/plain": [
              "           날짜  총계(명)\n",
              "0  2005-01-01  6,440\n",
              "1  2005-01-02  6,062\n",
              "2  2005-01-03    858\n",
              "3  2005-01-04  1,200\n",
              "4  2005-01-05  1,603"
            ]
          },
          "metadata": {
            "tags": []
          },
          "execution_count": 24
        }
      ]
    },
    {
      "cell_type": "code",
      "metadata": {
        "id": "lgaww0eRSzc7",
        "colab_type": "code",
        "colab": {
          "base_uri": "https://localhost:8080/",
          "height": 307
        },
        "outputId": "2c0909ac-723b-4753-8d9c-fb61850a40b4"
      },
      "source": [
        "# 년, 월, 일 컬럼 나누기\n",
        "\n",
        "seoul['year'] = 0\n",
        "seoul['month'] = 0\n",
        "seoul['date'] = 0\n",
        "for i, x in enumerate(seoul['날짜']):\n",
        "  a = x.split('-')\n",
        "  seoul['year'][i] = a[0]\n",
        "  seoul['month'][i] = a[1]\n",
        "  seoul['date'][i] = a[2]\n",
        "\n",
        "# 컬럼명 정리\n",
        "seoul.columns = ['날짜','guests','year','month','date']\n",
        "seoul = seoul[['날짜','year','month','date','guests']]"
      ],
      "execution_count": null,
      "outputs": [
        {
          "output_type": "stream",
          "text": [
            "/usr/local/lib/python3.6/dist-packages/ipykernel_launcher.py:8: SettingWithCopyWarning: \n",
            "A value is trying to be set on a copy of a slice from a DataFrame\n",
            "\n",
            "See the caveats in the documentation: https://pandas.pydata.org/pandas-docs/stable/user_guide/indexing.html#returning-a-view-versus-a-copy\n",
            "  \n",
            "/usr/local/lib/python3.6/dist-packages/ipykernel_launcher.py:9: SettingWithCopyWarning: \n",
            "A value is trying to be set on a copy of a slice from a DataFrame\n",
            "\n",
            "See the caveats in the documentation: https://pandas.pydata.org/pandas-docs/stable/user_guide/indexing.html#returning-a-view-versus-a-copy\n",
            "  if __name__ == '__main__':\n",
            "/usr/local/lib/python3.6/dist-packages/ipykernel_launcher.py:10: SettingWithCopyWarning: \n",
            "A value is trying to be set on a copy of a slice from a DataFrame\n",
            "\n",
            "See the caveats in the documentation: https://pandas.pydata.org/pandas-docs/stable/user_guide/indexing.html#returning-a-view-versus-a-copy\n",
            "  # Remove the CWD from sys.path while we load stuff.\n"
          ],
          "name": "stderr"
        }
      ]
    },
    {
      "cell_type": "code",
      "metadata": {
        "id": "SUwMIsO0WET7",
        "colab_type": "code",
        "colab": {
          "base_uri": "https://localhost:8080/",
          "height": 343
        },
        "outputId": "e3d25592-3d38-45df-bdf1-45204c394250"
      },
      "source": [
        "# 결측치 처리를 위한 NULL값 보간\n",
        "\n",
        "seoul.fillna(0, inplace=True)\n",
        "seoul.isnull().sum()\n",
        "\n",
        "# 데이터 핸들링을 위한 타입 변환\n",
        "\n",
        "for i, j in enumerate(seoul['guests']):\n",
        "  seoul['guests'][i] = str(j).replace(',','')\n",
        "\n",
        "seoul['guests'] = pd.to_numeric(seoul['guests'])\n",
        "\n",
        "seoul.info()"
      ],
      "execution_count": null,
      "outputs": [
        {
          "output_type": "stream",
          "text": [
            "/usr/local/lib/python3.6/dist-packages/ipykernel_launcher.py:9: SettingWithCopyWarning: \n",
            "A value is trying to be set on a copy of a slice from a DataFrame\n",
            "\n",
            "See the caveats in the documentation: https://pandas.pydata.org/pandas-docs/stable/user_guide/indexing.html#returning-a-view-versus-a-copy\n",
            "  if __name__ == '__main__':\n"
          ],
          "name": "stderr"
        },
        {
          "output_type": "stream",
          "text": [
            "<class 'pandas.core.frame.DataFrame'>\n",
            "RangeIndex: 5478 entries, 0 to 5477\n",
            "Data columns (total 5 columns):\n",
            " #   Column  Non-Null Count  Dtype \n",
            "---  ------  --------------  ----- \n",
            " 0   날짜      5478 non-null   object\n",
            " 1   year    5478 non-null   int64 \n",
            " 2   month   5478 non-null   int64 \n",
            " 3   date    5478 non-null   int64 \n",
            " 4   guests  5478 non-null   int64 \n",
            "dtypes: int64(4), object(1)\n",
            "memory usage: 214.1+ KB\n"
          ],
          "name": "stdout"
        }
      ]
    },
    {
      "cell_type": "code",
      "metadata": {
        "id": "tSAN_oHDS2Uj",
        "colab_type": "code",
        "colab": {
          "base_uri": "https://localhost:8080/",
          "height": 204
        },
        "outputId": "6afb317b-e43f-4b38-c810-c169b9e2806e"
      },
      "source": [
        "seoul.head()"
      ],
      "execution_count": null,
      "outputs": [
        {
          "output_type": "execute_result",
          "data": {
            "text/html": [
              "<div>\n",
              "<style scoped>\n",
              "    .dataframe tbody tr th:only-of-type {\n",
              "        vertical-align: middle;\n",
              "    }\n",
              "\n",
              "    .dataframe tbody tr th {\n",
              "        vertical-align: top;\n",
              "    }\n",
              "\n",
              "    .dataframe thead th {\n",
              "        text-align: right;\n",
              "    }\n",
              "</style>\n",
              "<table border=\"1\" class=\"dataframe\">\n",
              "  <thead>\n",
              "    <tr style=\"text-align: right;\">\n",
              "      <th></th>\n",
              "      <th>날짜</th>\n",
              "      <th>year</th>\n",
              "      <th>month</th>\n",
              "      <th>date</th>\n",
              "      <th>guests</th>\n",
              "    </tr>\n",
              "  </thead>\n",
              "  <tbody>\n",
              "    <tr>\n",
              "      <th>0</th>\n",
              "      <td>2005-01-01</td>\n",
              "      <td>2005</td>\n",
              "      <td>1</td>\n",
              "      <td>1</td>\n",
              "      <td>6440</td>\n",
              "    </tr>\n",
              "    <tr>\n",
              "      <th>1</th>\n",
              "      <td>2005-01-02</td>\n",
              "      <td>2005</td>\n",
              "      <td>1</td>\n",
              "      <td>2</td>\n",
              "      <td>6062</td>\n",
              "    </tr>\n",
              "    <tr>\n",
              "      <th>2</th>\n",
              "      <td>2005-01-03</td>\n",
              "      <td>2005</td>\n",
              "      <td>1</td>\n",
              "      <td>3</td>\n",
              "      <td>858</td>\n",
              "    </tr>\n",
              "    <tr>\n",
              "      <th>3</th>\n",
              "      <td>2005-01-04</td>\n",
              "      <td>2005</td>\n",
              "      <td>1</td>\n",
              "      <td>4</td>\n",
              "      <td>1200</td>\n",
              "    </tr>\n",
              "    <tr>\n",
              "      <th>4</th>\n",
              "      <td>2005-01-05</td>\n",
              "      <td>2005</td>\n",
              "      <td>1</td>\n",
              "      <td>5</td>\n",
              "      <td>1603</td>\n",
              "    </tr>\n",
              "  </tbody>\n",
              "</table>\n",
              "</div>"
            ],
            "text/plain": [
              "           날짜  year  month  date  guests\n",
              "0  2005-01-01  2005      1     1    6440\n",
              "1  2005-01-02  2005      1     2    6062\n",
              "2  2005-01-03  2005      1     3     858\n",
              "3  2005-01-04  2005      1     4    1200\n",
              "4  2005-01-05  2005      1     5    1603"
            ]
          },
          "metadata": {
            "tags": []
          },
          "execution_count": 41
        }
      ]
    },
    {
      "cell_type": "code",
      "metadata": {
        "id": "LHi7ljpYS4aA",
        "colab_type": "code",
        "colab": {
          "base_uri": "https://localhost:8080/",
          "height": 204
        },
        "outputId": "b478c4a0-f23e-4c5d-8df6-02fed9fe2cf5"
      },
      "source": [
        "del weather['Unnamed: 0']\n",
        "weather.columns = ['날짜','highest','lowest','mean','rain']\n",
        "weather.head()"
      ],
      "execution_count": null,
      "outputs": [
        {
          "output_type": "execute_result",
          "data": {
            "text/html": [
              "<div>\n",
              "<style scoped>\n",
              "    .dataframe tbody tr th:only-of-type {\n",
              "        vertical-align: middle;\n",
              "    }\n",
              "\n",
              "    .dataframe tbody tr th {\n",
              "        vertical-align: top;\n",
              "    }\n",
              "\n",
              "    .dataframe thead th {\n",
              "        text-align: right;\n",
              "    }\n",
              "</style>\n",
              "<table border=\"1\" class=\"dataframe\">\n",
              "  <thead>\n",
              "    <tr style=\"text-align: right;\">\n",
              "      <th></th>\n",
              "      <th>날짜</th>\n",
              "      <th>highest</th>\n",
              "      <th>lowest</th>\n",
              "      <th>mean</th>\n",
              "      <th>rain</th>\n",
              "    </tr>\n",
              "  </thead>\n",
              "  <tbody>\n",
              "    <tr>\n",
              "      <th>0</th>\n",
              "      <td>2005-01-01</td>\n",
              "      <td>-1.0℃</td>\n",
              "      <td>-8.8℃</td>\n",
              "      <td>-4.9℃</td>\n",
              "      <td>-</td>\n",
              "    </tr>\n",
              "    <tr>\n",
              "      <th>1</th>\n",
              "      <td>2005-01-02</td>\n",
              "      <td>4.5℃</td>\n",
              "      <td>-5.0℃</td>\n",
              "      <td>0.4℃</td>\n",
              "      <td>0.0mm</td>\n",
              "    </tr>\n",
              "    <tr>\n",
              "      <th>2</th>\n",
              "      <td>2005-01-03</td>\n",
              "      <td>4.9℃</td>\n",
              "      <td>-2.0℃</td>\n",
              "      <td>2.9℃</td>\n",
              "      <td>1.5mm</td>\n",
              "    </tr>\n",
              "    <tr>\n",
              "      <th>3</th>\n",
              "      <td>2005-01-04</td>\n",
              "      <td>-1.2℃</td>\n",
              "      <td>-7.4℃</td>\n",
              "      <td>-4.9℃</td>\n",
              "      <td>-</td>\n",
              "    </tr>\n",
              "    <tr>\n",
              "      <th>4</th>\n",
              "      <td>2005-01-05</td>\n",
              "      <td>0.6℃</td>\n",
              "      <td>-8.8℃</td>\n",
              "      <td>-3.8℃</td>\n",
              "      <td>-</td>\n",
              "    </tr>\n",
              "  </tbody>\n",
              "</table>\n",
              "</div>"
            ],
            "text/plain": [
              "           날짜 highest lowest   mean   rain\n",
              "0  2005-01-01   -1.0℃  -8.8℃  -4.9℃      -\n",
              "1  2005-01-02    4.5℃  -5.0℃   0.4℃  0.0mm\n",
              "2  2005-01-03    4.9℃  -2.0℃   2.9℃  1.5mm\n",
              "3  2005-01-04   -1.2℃  -7.4℃  -4.9℃      -\n",
              "4  2005-01-05    0.6℃  -8.8℃  -3.8℃      -"
            ]
          },
          "metadata": {
            "tags": []
          },
          "execution_count": 27
        }
      ]
    },
    {
      "cell_type": "code",
      "metadata": {
        "id": "de2e44VyS62U",
        "colab_type": "code",
        "colab": {
          "base_uri": "https://localhost:8080/",
          "height": 204
        },
        "outputId": "abbb7c49-2ae9-4b16-fb67-118f8b904a6c"
      },
      "source": [
        "del dust['Unnamed: 0']\n",
        "dust.head()"
      ],
      "execution_count": null,
      "outputs": [
        {
          "output_type": "execute_result",
          "data": {
            "text/html": [
              "<div>\n",
              "<style scoped>\n",
              "    .dataframe tbody tr th:only-of-type {\n",
              "        vertical-align: middle;\n",
              "    }\n",
              "\n",
              "    .dataframe tbody tr th {\n",
              "        vertical-align: top;\n",
              "    }\n",
              "\n",
              "    .dataframe thead th {\n",
              "        text-align: right;\n",
              "    }\n",
              "</style>\n",
              "<table border=\"1\" class=\"dataframe\">\n",
              "  <thead>\n",
              "    <tr style=\"text-align: right;\">\n",
              "      <th></th>\n",
              "      <th>날짜</th>\n",
              "      <th>미세먼지</th>\n",
              "    </tr>\n",
              "  </thead>\n",
              "  <tbody>\n",
              "    <tr>\n",
              "      <th>0</th>\n",
              "      <td>2005-01-01</td>\n",
              "      <td>-</td>\n",
              "    </tr>\n",
              "    <tr>\n",
              "      <th>1</th>\n",
              "      <td>2005-01-02</td>\n",
              "      <td>-</td>\n",
              "    </tr>\n",
              "    <tr>\n",
              "      <th>2</th>\n",
              "      <td>2005-01-03</td>\n",
              "      <td>-</td>\n",
              "    </tr>\n",
              "    <tr>\n",
              "      <th>3</th>\n",
              "      <td>2005-01-04</td>\n",
              "      <td>-</td>\n",
              "    </tr>\n",
              "    <tr>\n",
              "      <th>4</th>\n",
              "      <td>2005-01-05</td>\n",
              "      <td>-</td>\n",
              "    </tr>\n",
              "  </tbody>\n",
              "</table>\n",
              "</div>"
            ],
            "text/plain": [
              "           날짜 미세먼지\n",
              "0  2005-01-01    -\n",
              "1  2005-01-02    -\n",
              "2  2005-01-03    -\n",
              "3  2005-01-04    -\n",
              "4  2005-01-05    -"
            ]
          },
          "metadata": {
            "tags": []
          },
          "execution_count": 28
        }
      ]
    },
    {
      "cell_type": "code",
      "metadata": {
        "id": "1Gq0_dWtS8aL",
        "colab_type": "code",
        "colab": {
          "base_uri": "https://localhost:8080/",
          "height": 204
        },
        "outputId": "776c2e7c-cf69-448d-ae14-eaba085e3db0"
      },
      "source": [
        "temp = pd.merge(seoul, weather, on='날짜')\n",
        "temp.head()"
      ],
      "execution_count": null,
      "outputs": [
        {
          "output_type": "execute_result",
          "data": {
            "text/html": [
              "<div>\n",
              "<style scoped>\n",
              "    .dataframe tbody tr th:only-of-type {\n",
              "        vertical-align: middle;\n",
              "    }\n",
              "\n",
              "    .dataframe tbody tr th {\n",
              "        vertical-align: top;\n",
              "    }\n",
              "\n",
              "    .dataframe thead th {\n",
              "        text-align: right;\n",
              "    }\n",
              "</style>\n",
              "<table border=\"1\" class=\"dataframe\">\n",
              "  <thead>\n",
              "    <tr style=\"text-align: right;\">\n",
              "      <th></th>\n",
              "      <th>날짜</th>\n",
              "      <th>year</th>\n",
              "      <th>month</th>\n",
              "      <th>date</th>\n",
              "      <th>guests</th>\n",
              "      <th>highest</th>\n",
              "      <th>lowest</th>\n",
              "      <th>mean</th>\n",
              "      <th>rain</th>\n",
              "    </tr>\n",
              "  </thead>\n",
              "  <tbody>\n",
              "    <tr>\n",
              "      <th>0</th>\n",
              "      <td>2005-01-01</td>\n",
              "      <td>2005</td>\n",
              "      <td>1</td>\n",
              "      <td>1</td>\n",
              "      <td>6440</td>\n",
              "      <td>-1.0℃</td>\n",
              "      <td>-8.8℃</td>\n",
              "      <td>-4.9℃</td>\n",
              "      <td>-</td>\n",
              "    </tr>\n",
              "    <tr>\n",
              "      <th>1</th>\n",
              "      <td>2005-01-02</td>\n",
              "      <td>2005</td>\n",
              "      <td>1</td>\n",
              "      <td>2</td>\n",
              "      <td>6062</td>\n",
              "      <td>4.5℃</td>\n",
              "      <td>-5.0℃</td>\n",
              "      <td>0.4℃</td>\n",
              "      <td>0.0mm</td>\n",
              "    </tr>\n",
              "    <tr>\n",
              "      <th>2</th>\n",
              "      <td>2005-01-03</td>\n",
              "      <td>2005</td>\n",
              "      <td>1</td>\n",
              "      <td>3</td>\n",
              "      <td>858</td>\n",
              "      <td>4.9℃</td>\n",
              "      <td>-2.0℃</td>\n",
              "      <td>2.9℃</td>\n",
              "      <td>1.5mm</td>\n",
              "    </tr>\n",
              "    <tr>\n",
              "      <th>3</th>\n",
              "      <td>2005-01-04</td>\n",
              "      <td>2005</td>\n",
              "      <td>1</td>\n",
              "      <td>4</td>\n",
              "      <td>1200</td>\n",
              "      <td>-1.2℃</td>\n",
              "      <td>-7.4℃</td>\n",
              "      <td>-4.9℃</td>\n",
              "      <td>-</td>\n",
              "    </tr>\n",
              "    <tr>\n",
              "      <th>4</th>\n",
              "      <td>2005-01-05</td>\n",
              "      <td>2005</td>\n",
              "      <td>1</td>\n",
              "      <td>5</td>\n",
              "      <td>1603</td>\n",
              "      <td>0.6℃</td>\n",
              "      <td>-8.8℃</td>\n",
              "      <td>-3.8℃</td>\n",
              "      <td>-</td>\n",
              "    </tr>\n",
              "  </tbody>\n",
              "</table>\n",
              "</div>"
            ],
            "text/plain": [
              "           날짜  year  month  date  guests highest lowest   mean   rain\n",
              "0  2005-01-01  2005      1     1    6440   -1.0℃  -8.8℃  -4.9℃      -\n",
              "1  2005-01-02  2005      1     2    6062    4.5℃  -5.0℃   0.4℃  0.0mm\n",
              "2  2005-01-03  2005      1     3     858    4.9℃  -2.0℃   2.9℃  1.5mm\n",
              "3  2005-01-04  2005      1     4    1200   -1.2℃  -7.4℃  -4.9℃      -\n",
              "4  2005-01-05  2005      1     5    1603    0.6℃  -8.8℃  -3.8℃      -"
            ]
          },
          "metadata": {
            "tags": []
          },
          "execution_count": 42
        }
      ]
    },
    {
      "cell_type": "code",
      "metadata": {
        "id": "ZlzL0mHQTpj1",
        "colab_type": "code",
        "colab": {
          "base_uri": "https://localhost:8080/",
          "height": 35
        },
        "outputId": "a2e0a20a-bb49-46ae-ee3c-403c094e4f94"
      },
      "source": [
        "len(temp)"
      ],
      "execution_count": null,
      "outputs": [
        {
          "output_type": "execute_result",
          "data": {
            "text/plain": [
              "5478"
            ]
          },
          "metadata": {
            "tags": []
          },
          "execution_count": 43
        }
      ]
    },
    {
      "cell_type": "code",
      "metadata": {
        "id": "Ql9oIK7gTuh1",
        "colab_type": "code",
        "colab": {
          "base_uri": "https://localhost:8080/",
          "height": 204
        },
        "outputId": "963be7de-fd9d-4e21-c16a-8fab5975c6c8"
      },
      "source": [
        "df = pd.merge(temp, dust, on='날짜', how='outer')\n",
        "df.head()"
      ],
      "execution_count": null,
      "outputs": [
        {
          "output_type": "execute_result",
          "data": {
            "text/html": [
              "<div>\n",
              "<style scoped>\n",
              "    .dataframe tbody tr th:only-of-type {\n",
              "        vertical-align: middle;\n",
              "    }\n",
              "\n",
              "    .dataframe tbody tr th {\n",
              "        vertical-align: top;\n",
              "    }\n",
              "\n",
              "    .dataframe thead th {\n",
              "        text-align: right;\n",
              "    }\n",
              "</style>\n",
              "<table border=\"1\" class=\"dataframe\">\n",
              "  <thead>\n",
              "    <tr style=\"text-align: right;\">\n",
              "      <th></th>\n",
              "      <th>날짜</th>\n",
              "      <th>year</th>\n",
              "      <th>month</th>\n",
              "      <th>date</th>\n",
              "      <th>guests</th>\n",
              "      <th>highest</th>\n",
              "      <th>lowest</th>\n",
              "      <th>mean</th>\n",
              "      <th>rain</th>\n",
              "      <th>미세먼지</th>\n",
              "    </tr>\n",
              "  </thead>\n",
              "  <tbody>\n",
              "    <tr>\n",
              "      <th>0</th>\n",
              "      <td>2005-01-01</td>\n",
              "      <td>2005</td>\n",
              "      <td>1</td>\n",
              "      <td>1</td>\n",
              "      <td>6440</td>\n",
              "      <td>-1.0℃</td>\n",
              "      <td>-8.8℃</td>\n",
              "      <td>-4.9℃</td>\n",
              "      <td>-</td>\n",
              "      <td>-</td>\n",
              "    </tr>\n",
              "    <tr>\n",
              "      <th>1</th>\n",
              "      <td>2005-01-02</td>\n",
              "      <td>2005</td>\n",
              "      <td>1</td>\n",
              "      <td>2</td>\n",
              "      <td>6062</td>\n",
              "      <td>4.5℃</td>\n",
              "      <td>-5.0℃</td>\n",
              "      <td>0.4℃</td>\n",
              "      <td>0.0mm</td>\n",
              "      <td>-</td>\n",
              "    </tr>\n",
              "    <tr>\n",
              "      <th>2</th>\n",
              "      <td>2005-01-03</td>\n",
              "      <td>2005</td>\n",
              "      <td>1</td>\n",
              "      <td>3</td>\n",
              "      <td>858</td>\n",
              "      <td>4.9℃</td>\n",
              "      <td>-2.0℃</td>\n",
              "      <td>2.9℃</td>\n",
              "      <td>1.5mm</td>\n",
              "      <td>-</td>\n",
              "    </tr>\n",
              "    <tr>\n",
              "      <th>3</th>\n",
              "      <td>2005-01-04</td>\n",
              "      <td>2005</td>\n",
              "      <td>1</td>\n",
              "      <td>4</td>\n",
              "      <td>1200</td>\n",
              "      <td>-1.2℃</td>\n",
              "      <td>-7.4℃</td>\n",
              "      <td>-4.9℃</td>\n",
              "      <td>-</td>\n",
              "      <td>-</td>\n",
              "    </tr>\n",
              "    <tr>\n",
              "      <th>4</th>\n",
              "      <td>2005-01-05</td>\n",
              "      <td>2005</td>\n",
              "      <td>1</td>\n",
              "      <td>5</td>\n",
              "      <td>1603</td>\n",
              "      <td>0.6℃</td>\n",
              "      <td>-8.8℃</td>\n",
              "      <td>-3.8℃</td>\n",
              "      <td>-</td>\n",
              "      <td>-</td>\n",
              "    </tr>\n",
              "  </tbody>\n",
              "</table>\n",
              "</div>"
            ],
            "text/plain": [
              "           날짜  year  month  date  guests highest lowest   mean   rain 미세먼지\n",
              "0  2005-01-01  2005      1     1    6440   -1.0℃  -8.8℃  -4.9℃      -    -\n",
              "1  2005-01-02  2005      1     2    6062    4.5℃  -5.0℃   0.4℃  0.0mm    -\n",
              "2  2005-01-03  2005      1     3     858    4.9℃  -2.0℃   2.9℃  1.5mm    -\n",
              "3  2005-01-04  2005      1     4    1200   -1.2℃  -7.4℃  -4.9℃      -    -\n",
              "4  2005-01-05  2005      1     5    1603    0.6℃  -8.8℃  -3.8℃      -    -"
            ]
          },
          "metadata": {
            "tags": []
          },
          "execution_count": 44
        }
      ]
    },
    {
      "cell_type": "code",
      "metadata": {
        "id": "pQy-6UKvT8wc",
        "colab_type": "code",
        "colab": {
          "base_uri": "https://localhost:8080/",
          "height": 35
        },
        "outputId": "06529208-e2df-49d8-d5f9-63d0367d859d"
      },
      "source": [
        "len(df)"
      ],
      "execution_count": null,
      "outputs": [
        {
          "output_type": "execute_result",
          "data": {
            "text/plain": [
              "5478"
            ]
          },
          "metadata": {
            "tags": []
          },
          "execution_count": 45
        }
      ]
    },
    {
      "cell_type": "code",
      "metadata": {
        "id": "yT0qs8DhUAGt",
        "colab_type": "code",
        "colab": {
          "base_uri": "https://localhost:8080/",
          "height": 215
        },
        "outputId": "193d9e53-d385-4b20-dc70-19dee2a65543"
      },
      "source": [
        "# 2009.01.01. ~ 2009.01.31. 입장객 수 내부 전산 오류로 인한 누락\n",
        "# 2005.10.01. ~ 2005.10.31. 에어코리아 10월 데이터 조회 불가로 인한 누락\n",
        "\n",
        "df.isnull().sum()"
      ],
      "execution_count": null,
      "outputs": [
        {
          "output_type": "execute_result",
          "data": {
            "text/plain": [
              "날짜          0\n",
              "year        0\n",
              "month       0\n",
              "date        0\n",
              "guests      0\n",
              "highest     0\n",
              "lowest      0\n",
              "mean        0\n",
              "rain        0\n",
              "미세먼지       31\n",
              "dtype: int64"
            ]
          },
          "metadata": {
            "tags": []
          },
          "execution_count": 46
        }
      ]
    },
    {
      "cell_type": "code",
      "metadata": {
        "id": "wEWcfqgwUJSL",
        "colab_type": "code",
        "colab": {}
      },
      "source": [
        "df.to_csv('/content/drive/Shared drives/청년취업아카데미_대공원을간문돌이/데이터/seoulpark.csv')"
      ],
      "execution_count": null,
      "outputs": []
    },
    {
      "cell_type": "code",
      "metadata": {
        "id": "Dch0p_D8VAYh",
        "colab_type": "code",
        "colab": {
          "base_uri": "https://localhost:8080/",
          "height": 204
        },
        "outputId": "667b8b1a-63ac-4518-e3b9-32a5e3cc7c58"
      },
      "source": [
        "pd.read_csv('/content/drive/Shared drives/청년취업아카데미_대공원을간문돌이/데이터/seoulpark.csv', index_col=0).head()"
      ],
      "execution_count": null,
      "outputs": [
        {
          "output_type": "execute_result",
          "data": {
            "text/html": [
              "<div>\n",
              "<style scoped>\n",
              "    .dataframe tbody tr th:only-of-type {\n",
              "        vertical-align: middle;\n",
              "    }\n",
              "\n",
              "    .dataframe tbody tr th {\n",
              "        vertical-align: top;\n",
              "    }\n",
              "\n",
              "    .dataframe thead th {\n",
              "        text-align: right;\n",
              "    }\n",
              "</style>\n",
              "<table border=\"1\" class=\"dataframe\">\n",
              "  <thead>\n",
              "    <tr style=\"text-align: right;\">\n",
              "      <th></th>\n",
              "      <th>날짜</th>\n",
              "      <th>year</th>\n",
              "      <th>month</th>\n",
              "      <th>date</th>\n",
              "      <th>guests</th>\n",
              "      <th>highest</th>\n",
              "      <th>lowest</th>\n",
              "      <th>mean</th>\n",
              "      <th>rain</th>\n",
              "      <th>미세먼지</th>\n",
              "    </tr>\n",
              "  </thead>\n",
              "  <tbody>\n",
              "    <tr>\n",
              "      <th>0</th>\n",
              "      <td>2005-01-01</td>\n",
              "      <td>2005</td>\n",
              "      <td>1</td>\n",
              "      <td>1</td>\n",
              "      <td>6440</td>\n",
              "      <td>-1.0℃</td>\n",
              "      <td>-8.8℃</td>\n",
              "      <td>-4.9℃</td>\n",
              "      <td>-</td>\n",
              "      <td>-</td>\n",
              "    </tr>\n",
              "    <tr>\n",
              "      <th>1</th>\n",
              "      <td>2005-01-02</td>\n",
              "      <td>2005</td>\n",
              "      <td>1</td>\n",
              "      <td>2</td>\n",
              "      <td>6062</td>\n",
              "      <td>4.5℃</td>\n",
              "      <td>-5.0℃</td>\n",
              "      <td>0.4℃</td>\n",
              "      <td>0.0mm</td>\n",
              "      <td>-</td>\n",
              "    </tr>\n",
              "    <tr>\n",
              "      <th>2</th>\n",
              "      <td>2005-01-03</td>\n",
              "      <td>2005</td>\n",
              "      <td>1</td>\n",
              "      <td>3</td>\n",
              "      <td>858</td>\n",
              "      <td>4.9℃</td>\n",
              "      <td>-2.0℃</td>\n",
              "      <td>2.9℃</td>\n",
              "      <td>1.5mm</td>\n",
              "      <td>-</td>\n",
              "    </tr>\n",
              "    <tr>\n",
              "      <th>3</th>\n",
              "      <td>2005-01-04</td>\n",
              "      <td>2005</td>\n",
              "      <td>1</td>\n",
              "      <td>4</td>\n",
              "      <td>1200</td>\n",
              "      <td>-1.2℃</td>\n",
              "      <td>-7.4℃</td>\n",
              "      <td>-4.9℃</td>\n",
              "      <td>-</td>\n",
              "      <td>-</td>\n",
              "    </tr>\n",
              "    <tr>\n",
              "      <th>4</th>\n",
              "      <td>2005-01-05</td>\n",
              "      <td>2005</td>\n",
              "      <td>1</td>\n",
              "      <td>5</td>\n",
              "      <td>1603</td>\n",
              "      <td>0.6℃</td>\n",
              "      <td>-8.8℃</td>\n",
              "      <td>-3.8℃</td>\n",
              "      <td>-</td>\n",
              "      <td>-</td>\n",
              "    </tr>\n",
              "  </tbody>\n",
              "</table>\n",
              "</div>"
            ],
            "text/plain": [
              "           날짜  year  month  date  guests highest lowest   mean   rain 미세먼지\n",
              "0  2005-01-01  2005      1     1    6440   -1.0℃  -8.8℃  -4.9℃      -    -\n",
              "1  2005-01-02  2005      1     2    6062    4.5℃  -5.0℃   0.4℃  0.0mm    -\n",
              "2  2005-01-03  2005      1     3     858    4.9℃  -2.0℃   2.9℃  1.5mm    -\n",
              "3  2005-01-04  2005      1     4    1200   -1.2℃  -7.4℃  -4.9℃      -    -\n",
              "4  2005-01-05  2005      1     5    1603    0.6℃  -8.8℃  -3.8℃      -    -"
            ]
          },
          "metadata": {
            "tags": []
          },
          "execution_count": 48
        }
      ]
    },
    {
      "cell_type": "code",
      "metadata": {
        "id": "EB-qwJ4BVI8Z",
        "colab_type": "code",
        "colab": {}
      },
      "source": [
        ""
      ],
      "execution_count": null,
      "outputs": []
    }
  ]
}